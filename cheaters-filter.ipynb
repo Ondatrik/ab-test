{
 "cells": [
  {
   "cell_type": "markdown",
   "id": "792dcc2e",
   "metadata": {},
   "source": [
    "# Identifying and excluding new cheaters\n",
    "\n",
    "There is a a flag field 'cheaters' in a table 'users'. \n",
    "\n",
    "**Cheaters** are users who, by exploiting vulnerabilities in the game, deposited themselves a considerable amount of in-game currency. Those users do not bring real-world money to the company, but influence data from the A/B test. \n",
    "\n",
    "So, the behaviour pattern of the users, who has cheated the game during A/B test, could be described as:\n",
    "\n",
    "- no entries in the 'money' table, i.e. no real-world money transactions\n",
    "- but has entries in 'cash' table, i.e. substantial spending of in-game currency\n",
    "\n",
    "Although, there could be a group of legitimate users who, hypothetically, acquire in-game currency by winning matches, even without spending real-world money.\n",
    "\n",
    "*The hypothesis is as follows*: cheaters and legitimate users can be differentiated based on their spending volumes.\n",
    "\n",
    "In this file we look at the behaviour of the known cheaters, seeking for users with the same pattern and exclude them from data analysis. "
   ]
  },
  {
   "cell_type": "code",
   "execution_count": 1,
   "id": "102daa54",
   "metadata": {},
   "outputs": [],
   "source": [
    "import pandas as pd\n",
    "import numpy as np\n",
    "import matplotlib.pyplot as plt\n",
    "import seaborn as sns"
   ]
  },
  {
   "cell_type": "code",
   "execution_count": 2,
   "id": "55074632",
   "metadata": {},
   "outputs": [],
   "source": [
    "# Reading data from .csv files and saving it in Pandas DataFrames\n",
    "users = pd.read_csv('data-processed/users.csv')\n",
    "money_agg = pd.read_csv('data-processed/money_agg.csv')\n",
    "cash_agg = pd.read_csv('data-processed/cash_agg.csv')"
   ]
  },
  {
   "cell_type": "code",
   "execution_count": 3,
   "id": "7d5e0abd",
   "metadata": {},
   "outputs": [
    {
     "data": {
      "text/html": [
       "<div>\n",
       "<style scoped>\n",
       "    .dataframe tbody tr th:only-of-type {\n",
       "        vertical-align: middle;\n",
       "    }\n",
       "\n",
       "    .dataframe tbody tr th {\n",
       "        vertical-align: top;\n",
       "    }\n",
       "\n",
       "    .dataframe thead th {\n",
       "        text-align: right;\n",
       "    }\n",
       "</style>\n",
       "<table border=\"1\" class=\"dataframe\">\n",
       "  <thead>\n",
       "    <tr style=\"text-align: right;\">\n",
       "      <th></th>\n",
       "      <th>user_id</th>\n",
       "      <th>group</th>\n",
       "      <th>cheaters</th>\n",
       "      <th>platform</th>\n",
       "    </tr>\n",
       "  </thead>\n",
       "  <tbody>\n",
       "    <tr>\n",
       "      <th>0</th>\n",
       "      <td>VX6NLA-F5YMSW</td>\n",
       "      <td>control</td>\n",
       "      <td>0</td>\n",
       "      <td>XBox</td>\n",
       "    </tr>\n",
       "    <tr>\n",
       "      <th>1</th>\n",
       "      <td>2AXN3D-71ZN86</td>\n",
       "      <td>test</td>\n",
       "      <td>0</td>\n",
       "      <td>PC</td>\n",
       "    </tr>\n",
       "    <tr>\n",
       "      <th>2</th>\n",
       "      <td>K78V3J-TQMV6F</td>\n",
       "      <td>test</td>\n",
       "      <td>0</td>\n",
       "      <td>XBox</td>\n",
       "    </tr>\n",
       "  </tbody>\n",
       "</table>\n",
       "</div>"
      ],
      "text/plain": [
       "         user_id    group  cheaters platform\n",
       "0  VX6NLA-F5YMSW  control         0     XBox\n",
       "1  2AXN3D-71ZN86     test         0       PC\n",
       "2  K78V3J-TQMV6F     test         0     XBox"
      ]
     },
     "execution_count": 3,
     "metadata": {},
     "output_type": "execute_result"
    }
   ],
   "source": [
    "users.head(3)"
   ]
  },
  {
   "cell_type": "code",
   "execution_count": 4,
   "id": "9062f988",
   "metadata": {},
   "outputs": [
    {
     "data": {
      "text/html": [
       "<div>\n",
       "<style scoped>\n",
       "    .dataframe tbody tr th:only-of-type {\n",
       "        vertical-align: middle;\n",
       "    }\n",
       "\n",
       "    .dataframe tbody tr th {\n",
       "        vertical-align: top;\n",
       "    }\n",
       "\n",
       "    .dataframe thead th {\n",
       "        text-align: right;\n",
       "    }\n",
       "</style>\n",
       "<table border=\"1\" class=\"dataframe\">\n",
       "  <thead>\n",
       "    <tr style=\"text-align: right;\">\n",
       "      <th></th>\n",
       "      <th>user_id</th>\n",
       "      <th>money</th>\n",
       "    </tr>\n",
       "  </thead>\n",
       "  <tbody>\n",
       "    <tr>\n",
       "      <th>0</th>\n",
       "      <td>00036L-1T885I</td>\n",
       "      <td>3.97</td>\n",
       "    </tr>\n",
       "    <tr>\n",
       "      <th>1</th>\n",
       "      <td>0004MK-MRBUKF</td>\n",
       "      <td>5.95</td>\n",
       "    </tr>\n",
       "    <tr>\n",
       "      <th>2</th>\n",
       "      <td>0004MK-VW0O9L</td>\n",
       "      <td>4.96</td>\n",
       "    </tr>\n",
       "  </tbody>\n",
       "</table>\n",
       "</div>"
      ],
      "text/plain": [
       "         user_id  money\n",
       "0  00036L-1T885I   3.97\n",
       "1  0004MK-MRBUKF   5.95\n",
       "2  0004MK-VW0O9L   4.96"
      ]
     },
     "execution_count": 4,
     "metadata": {},
     "output_type": "execute_result"
    }
   ],
   "source": [
    "money_agg.head(3)"
   ]
  },
  {
   "cell_type": "code",
   "execution_count": 5,
   "id": "743561ac",
   "metadata": {},
   "outputs": [
    {
     "data": {
      "text/html": [
       "<div>\n",
       "<style scoped>\n",
       "    .dataframe tbody tr th:only-of-type {\n",
       "        vertical-align: middle;\n",
       "    }\n",
       "\n",
       "    .dataframe tbody tr th {\n",
       "        vertical-align: top;\n",
       "    }\n",
       "\n",
       "    .dataframe thead th {\n",
       "        text-align: right;\n",
       "    }\n",
       "</style>\n",
       "<table border=\"1\" class=\"dataframe\">\n",
       "  <thead>\n",
       "    <tr style=\"text-align: right;\">\n",
       "      <th></th>\n",
       "      <th>user_id</th>\n",
       "      <th>cash</th>\n",
       "    </tr>\n",
       "  </thead>\n",
       "  <tbody>\n",
       "    <tr>\n",
       "      <th>0</th>\n",
       "      <td>00036L-1T885I</td>\n",
       "      <td>7600</td>\n",
       "    </tr>\n",
       "    <tr>\n",
       "      <th>1</th>\n",
       "      <td>0004MK-MRBUKF</td>\n",
       "      <td>6150</td>\n",
       "    </tr>\n",
       "    <tr>\n",
       "      <th>2</th>\n",
       "      <td>0004MK-VW0O9L</td>\n",
       "      <td>6300</td>\n",
       "    </tr>\n",
       "  </tbody>\n",
       "</table>\n",
       "</div>"
      ],
      "text/plain": [
       "         user_id  cash\n",
       "0  00036L-1T885I  7600\n",
       "1  0004MK-MRBUKF  6150\n",
       "2  0004MK-VW0O9L  6300"
      ]
     },
     "execution_count": 5,
     "metadata": {},
     "output_type": "execute_result"
    }
   ],
   "source": [
    "cash_agg.head(3)"
   ]
  },
  {
   "cell_type": "markdown",
   "id": "09996ed9",
   "metadata": {},
   "source": [
    "## Research of behaviour pattern of known cheaters"
   ]
  },
  {
   "cell_type": "code",
   "execution_count": 6,
   "id": "6a0c8c00",
   "metadata": {},
   "outputs": [
    {
     "name": "stdout",
     "output_type": "stream",
     "text": [
      "<class 'pandas.core.frame.DataFrame'>\n",
      "Int64Index: 353 entries, 2158 to 1078318\n",
      "Data columns (total 4 columns):\n",
      " #   Column    Non-Null Count  Dtype \n",
      "---  ------    --------------  ----- \n",
      " 0   user_id   353 non-null    object\n",
      " 1   group     353 non-null    object\n",
      " 2   cheaters  353 non-null    int64 \n",
      " 3   platform  353 non-null    object\n",
      "dtypes: int64(1), object(3)\n",
      "memory usage: 13.8+ KB\n"
     ]
    }
   ],
   "source": [
    "# Filtering known cheaters by the flag field and saving them in a separate DataFrame. \n",
    "# In total we have 353 entries\n",
    "cheaters_pattern = users[users['cheaters'] == 1]\n",
    "cheaters_pattern.info()"
   ]
  },
  {
   "cell_type": "code",
   "execution_count": 7,
   "id": "2978c29e",
   "metadata": {},
   "outputs": [
    {
     "data": {
      "text/html": [
       "<div>\n",
       "<style scoped>\n",
       "    .dataframe tbody tr th:only-of-type {\n",
       "        vertical-align: middle;\n",
       "    }\n",
       "\n",
       "    .dataframe tbody tr th {\n",
       "        vertical-align: top;\n",
       "    }\n",
       "\n",
       "    .dataframe thead th {\n",
       "        text-align: right;\n",
       "    }\n",
       "</style>\n",
       "<table border=\"1\" class=\"dataframe\">\n",
       "  <thead>\n",
       "    <tr style=\"text-align: right;\">\n",
       "      <th></th>\n",
       "      <th>user_id</th>\n",
       "      <th>group</th>\n",
       "      <th>cheaters</th>\n",
       "      <th>platform</th>\n",
       "      <th>money</th>\n",
       "      <th>cash</th>\n",
       "    </tr>\n",
       "  </thead>\n",
       "  <tbody>\n",
       "    <tr>\n",
       "      <th>0</th>\n",
       "      <td>U192N6-HV5KWD</td>\n",
       "      <td>test</td>\n",
       "      <td>1</td>\n",
       "      <td>PC</td>\n",
       "      <td>0.0</td>\n",
       "      <td>136200</td>\n",
       "    </tr>\n",
       "    <tr>\n",
       "      <th>1</th>\n",
       "      <td>MMQ51G-SNJR5K</td>\n",
       "      <td>test</td>\n",
       "      <td>1</td>\n",
       "      <td>PC</td>\n",
       "      <td>0.0</td>\n",
       "      <td>181600</td>\n",
       "    </tr>\n",
       "    <tr>\n",
       "      <th>2</th>\n",
       "      <td>Q80AK8-1EGHOF</td>\n",
       "      <td>control</td>\n",
       "      <td>1</td>\n",
       "      <td>PC</td>\n",
       "      <td>0.0</td>\n",
       "      <td>101500</td>\n",
       "    </tr>\n",
       "  </tbody>\n",
       "</table>\n",
       "</div>"
      ],
      "text/plain": [
       "         user_id    group  cheaters platform  money    cash\n",
       "0  U192N6-HV5KWD     test         1       PC    0.0  136200\n",
       "1  MMQ51G-SNJR5K     test         1       PC    0.0  181600\n",
       "2  Q80AK8-1EGHOF  control         1       PC    0.0  101500"
      ]
     },
     "execution_count": 7,
     "metadata": {},
     "output_type": "execute_result"
    }
   ],
   "source": [
    "# Adding data about transactions in real-world money and in-game currency\n",
    "cheaters_pattern = cheaters_pattern.merge(money_agg, how='left', on='user_id')\\\n",
    ".merge(cash_agg, how='left', on='user_id')\n",
    "\n",
    "cheaters_pattern.head(3)"
   ]
  },
  {
   "cell_type": "code",
   "execution_count": 8,
   "id": "e0db6a91",
   "metadata": {},
   "outputs": [
    {
     "data": {
      "text/html": [
       "<div>\n",
       "<style scoped>\n",
       "    .dataframe tbody tr th:only-of-type {\n",
       "        vertical-align: middle;\n",
       "    }\n",
       "\n",
       "    .dataframe tbody tr th {\n",
       "        vertical-align: top;\n",
       "    }\n",
       "\n",
       "    .dataframe thead th {\n",
       "        text-align: right;\n",
       "    }\n",
       "</style>\n",
       "<table border=\"1\" class=\"dataframe\">\n",
       "  <thead>\n",
       "    <tr style=\"text-align: right;\">\n",
       "      <th></th>\n",
       "      <th>cheaters</th>\n",
       "      <th>money</th>\n",
       "      <th>cash</th>\n",
       "    </tr>\n",
       "  </thead>\n",
       "  <tbody>\n",
       "    <tr>\n",
       "      <th>count</th>\n",
       "      <td>353.0</td>\n",
       "      <td>353.0</td>\n",
       "      <td>353.000000</td>\n",
       "    </tr>\n",
       "    <tr>\n",
       "      <th>mean</th>\n",
       "      <td>1.0</td>\n",
       "      <td>0.0</td>\n",
       "      <td>146807.932011</td>\n",
       "    </tr>\n",
       "    <tr>\n",
       "      <th>std</th>\n",
       "      <td>0.0</td>\n",
       "      <td>0.0</td>\n",
       "      <td>33800.925081</td>\n",
       "    </tr>\n",
       "    <tr>\n",
       "      <th>min</th>\n",
       "      <td>1.0</td>\n",
       "      <td>0.0</td>\n",
       "      <td>46700.000000</td>\n",
       "    </tr>\n",
       "    <tr>\n",
       "      <th>25%</th>\n",
       "      <td>1.0</td>\n",
       "      <td>0.0</td>\n",
       "      <td>125100.000000</td>\n",
       "    </tr>\n",
       "    <tr>\n",
       "      <th>50%</th>\n",
       "      <td>1.0</td>\n",
       "      <td>0.0</td>\n",
       "      <td>147200.000000</td>\n",
       "    </tr>\n",
       "    <tr>\n",
       "      <th>75%</th>\n",
       "      <td>1.0</td>\n",
       "      <td>0.0</td>\n",
       "      <td>169700.000000</td>\n",
       "    </tr>\n",
       "    <tr>\n",
       "      <th>max</th>\n",
       "      <td>1.0</td>\n",
       "      <td>0.0</td>\n",
       "      <td>253150.000000</td>\n",
       "    </tr>\n",
       "  </tbody>\n",
       "</table>\n",
       "</div>"
      ],
      "text/plain": [
       "       cheaters  money           cash\n",
       "count     353.0  353.0     353.000000\n",
       "mean        1.0    0.0  146807.932011\n",
       "std         0.0    0.0   33800.925081\n",
       "min         1.0    0.0   46700.000000\n",
       "25%         1.0    0.0  125100.000000\n",
       "50%         1.0    0.0  147200.000000\n",
       "75%         1.0    0.0  169700.000000\n",
       "max         1.0    0.0  253150.000000"
      ]
     },
     "execution_count": 8,
     "metadata": {},
     "output_type": "execute_result"
    }
   ],
   "source": [
    "# Obtaining basic stats with DataFrame 'describe' method\n",
    "cheaters_pattern.describe()"
   ]
  },
  {
   "cell_type": "markdown",
   "id": "188fac55",
   "metadata": {},
   "source": [
    "**Conclusion**:  we have confirmed that not a single known cheater has spent real-world money. \n",
    "\n",
    "Although, they have conducted transactions in in-game currency with the arithmetic mean of **146 807,93**.  \n",
    "The range of spending of this cohort of users is from **46 700** to **253 150**."
   ]
  },
  {
   "cell_type": "markdown",
   "id": "d6e9d195",
   "metadata": {},
   "source": [
    "## Research on other users who do not spend real-world money"
   ]
  },
  {
   "cell_type": "code",
   "execution_count": 9,
   "id": "4218bb2b",
   "metadata": {},
   "outputs": [],
   "source": [
    "# Excluding the known cheaters and saving other users in a separate DataFrame.\n",
    "others = users[users['cheaters'] == 0]"
   ]
  },
  {
   "cell_type": "code",
   "execution_count": 10,
   "id": "f74e7ca7",
   "metadata": {},
   "outputs": [],
   "source": [
    "# Adding data about transactions in real-world money and in-game currency\n",
    "others_pattern = others.merge(money_agg, how='left', on='user_id').merge(cash_agg, how='left', on='user_id')"
   ]
  },
  {
   "cell_type": "code",
   "execution_count": 11,
   "id": "7f1ae425",
   "metadata": {},
   "outputs": [
    {
     "data": {
      "text/html": [
       "<div>\n",
       "<style scoped>\n",
       "    .dataframe tbody tr th:only-of-type {\n",
       "        vertical-align: middle;\n",
       "    }\n",
       "\n",
       "    .dataframe tbody tr th {\n",
       "        vertical-align: top;\n",
       "    }\n",
       "\n",
       "    .dataframe thead th {\n",
       "        text-align: right;\n",
       "    }\n",
       "</style>\n",
       "<table border=\"1\" class=\"dataframe\">\n",
       "  <thead>\n",
       "    <tr style=\"text-align: right;\">\n",
       "      <th></th>\n",
       "      <th>user_id</th>\n",
       "      <th>group</th>\n",
       "      <th>cheaters</th>\n",
       "      <th>platform</th>\n",
       "      <th>money</th>\n",
       "      <th>cash</th>\n",
       "    </tr>\n",
       "  </thead>\n",
       "  <tbody>\n",
       "    <tr>\n",
       "      <th>0</th>\n",
       "      <td>VX6NLA-F5YMSW</td>\n",
       "      <td>control</td>\n",
       "      <td>0</td>\n",
       "      <td>XBox</td>\n",
       "      <td>5.96</td>\n",
       "      <td>5050</td>\n",
       "    </tr>\n",
       "    <tr>\n",
       "      <th>1</th>\n",
       "      <td>2AXN3D-71ZN86</td>\n",
       "      <td>test</td>\n",
       "      <td>0</td>\n",
       "      <td>PC</td>\n",
       "      <td>4.96</td>\n",
       "      <td>5600</td>\n",
       "    </tr>\n",
       "    <tr>\n",
       "      <th>2</th>\n",
       "      <td>K78V3J-TQMV6F</td>\n",
       "      <td>test</td>\n",
       "      <td>0</td>\n",
       "      <td>XBox</td>\n",
       "      <td>3.96</td>\n",
       "      <td>5850</td>\n",
       "    </tr>\n",
       "  </tbody>\n",
       "</table>\n",
       "</div>"
      ],
      "text/plain": [
       "         user_id    group  cheaters platform  money  cash\n",
       "0  VX6NLA-F5YMSW  control         0     XBox   5.96  5050\n",
       "1  2AXN3D-71ZN86     test         0       PC   4.96  5600\n",
       "2  K78V3J-TQMV6F     test         0     XBox   3.96  5850"
      ]
     },
     "execution_count": 11,
     "metadata": {},
     "output_type": "execute_result"
    }
   ],
   "source": [
    "others_pattern.head(3)"
   ]
  },
  {
   "cell_type": "code",
   "execution_count": 12,
   "id": "e8a6e00f",
   "metadata": {},
   "outputs": [],
   "source": [
    "# Selecting users who have not spent real-world money, but have conducted in-game currency transactions\n",
    "suspected_cheaters = others_pattern[(others_pattern['money'] == 0) & (others_pattern['cash'] > 0)]"
   ]
  },
  {
   "cell_type": "code",
   "execution_count": 13,
   "id": "b05a7198",
   "metadata": {},
   "outputs": [
    {
     "data": {
      "text/html": [
       "<div>\n",
       "<style scoped>\n",
       "    .dataframe tbody tr th:only-of-type {\n",
       "        vertical-align: middle;\n",
       "    }\n",
       "\n",
       "    .dataframe tbody tr th {\n",
       "        vertical-align: top;\n",
       "    }\n",
       "\n",
       "    .dataframe thead th {\n",
       "        text-align: right;\n",
       "    }\n",
       "</style>\n",
       "<table border=\"1\" class=\"dataframe\">\n",
       "  <thead>\n",
       "    <tr style=\"text-align: right;\">\n",
       "      <th></th>\n",
       "      <th>user_id</th>\n",
       "      <th>group</th>\n",
       "      <th>cheaters</th>\n",
       "      <th>platform</th>\n",
       "      <th>money</th>\n",
       "      <th>cash</th>\n",
       "    </tr>\n",
       "  </thead>\n",
       "  <tbody>\n",
       "    <tr>\n",
       "      <th>2163</th>\n",
       "      <td>KKGZRW-QJBI02</td>\n",
       "      <td>control</td>\n",
       "      <td>0</td>\n",
       "      <td>PC</td>\n",
       "      <td>0.0</td>\n",
       "      <td>2850</td>\n",
       "    </tr>\n",
       "    <tr>\n",
       "      <th>2791</th>\n",
       "      <td>Y3WBZB-HV12ED</td>\n",
       "      <td>control</td>\n",
       "      <td>0</td>\n",
       "      <td>PC</td>\n",
       "      <td>0.0</td>\n",
       "      <td>2700</td>\n",
       "    </tr>\n",
       "    <tr>\n",
       "      <th>3442</th>\n",
       "      <td>LI17EU-KC2C5B</td>\n",
       "      <td>test</td>\n",
       "      <td>0</td>\n",
       "      <td>XBox</td>\n",
       "      <td>0.0</td>\n",
       "      <td>4100</td>\n",
       "    </tr>\n",
       "  </tbody>\n",
       "</table>\n",
       "</div>"
      ],
      "text/plain": [
       "            user_id    group  cheaters platform  money  cash\n",
       "2163  KKGZRW-QJBI02  control         0       PC    0.0  2850\n",
       "2791  Y3WBZB-HV12ED  control         0       PC    0.0  2700\n",
       "3442  LI17EU-KC2C5B     test         0     XBox    0.0  4100"
      ]
     },
     "execution_count": 13,
     "metadata": {},
     "output_type": "execute_result"
    }
   ],
   "source": [
    "suspected_cheaters.head(3)"
   ]
  },
  {
   "cell_type": "code",
   "execution_count": 14,
   "id": "cf3e6aa9",
   "metadata": {},
   "outputs": [
    {
     "data": {
      "text/html": [
       "<div>\n",
       "<style scoped>\n",
       "    .dataframe tbody tr th:only-of-type {\n",
       "        vertical-align: middle;\n",
       "    }\n",
       "\n",
       "    .dataframe tbody tr th {\n",
       "        vertical-align: top;\n",
       "    }\n",
       "\n",
       "    .dataframe thead th {\n",
       "        text-align: right;\n",
       "    }\n",
       "</style>\n",
       "<table border=\"1\" class=\"dataframe\">\n",
       "  <thead>\n",
       "    <tr style=\"text-align: right;\">\n",
       "      <th></th>\n",
       "      <th>cheaters</th>\n",
       "      <th>money</th>\n",
       "      <th>cash</th>\n",
       "    </tr>\n",
       "  </thead>\n",
       "  <tbody>\n",
       "    <tr>\n",
       "      <th>count</th>\n",
       "      <td>571.0</td>\n",
       "      <td>571.0</td>\n",
       "      <td>571.000000</td>\n",
       "    </tr>\n",
       "    <tr>\n",
       "      <th>mean</th>\n",
       "      <td>0.0</td>\n",
       "      <td>0.0</td>\n",
       "      <td>92286.339755</td>\n",
       "    </tr>\n",
       "    <tr>\n",
       "      <th>std</th>\n",
       "      <td>0.0</td>\n",
       "      <td>0.0</td>\n",
       "      <td>77170.723115</td>\n",
       "    </tr>\n",
       "    <tr>\n",
       "      <th>min</th>\n",
       "      <td>0.0</td>\n",
       "      <td>0.0</td>\n",
       "      <td>200.000000</td>\n",
       "    </tr>\n",
       "    <tr>\n",
       "      <th>25%</th>\n",
       "      <td>0.0</td>\n",
       "      <td>0.0</td>\n",
       "      <td>3725.000000</td>\n",
       "    </tr>\n",
       "    <tr>\n",
       "      <th>50%</th>\n",
       "      <td>0.0</td>\n",
       "      <td>0.0</td>\n",
       "      <td>117050.000000</td>\n",
       "    </tr>\n",
       "    <tr>\n",
       "      <th>75%</th>\n",
       "      <td>0.0</td>\n",
       "      <td>0.0</td>\n",
       "      <td>157775.000000</td>\n",
       "    </tr>\n",
       "    <tr>\n",
       "      <th>max</th>\n",
       "      <td>0.0</td>\n",
       "      <td>0.0</td>\n",
       "      <td>240950.000000</td>\n",
       "    </tr>\n",
       "  </tbody>\n",
       "</table>\n",
       "</div>"
      ],
      "text/plain": [
       "       cheaters  money           cash\n",
       "count     571.0  571.0     571.000000\n",
       "mean        0.0    0.0   92286.339755\n",
       "std         0.0    0.0   77170.723115\n",
       "min         0.0    0.0     200.000000\n",
       "25%         0.0    0.0    3725.000000\n",
       "50%         0.0    0.0  117050.000000\n",
       "75%         0.0    0.0  157775.000000\n",
       "max         0.0    0.0  240950.000000"
      ]
     },
     "execution_count": 14,
     "metadata": {},
     "output_type": "execute_result"
    }
   ],
   "source": [
    "# Obtaining basic stats with DataFrame 'describe' method\n",
    "suspected_cheaters.describe()"
   ]
  },
  {
   "cell_type": "markdown",
   "id": "980fd00c",
   "metadata": {},
   "source": [
    "It should be noted, that the range of 'cash' data is larger for these users - from **200** to **240 950**.  \n",
    "And the arithmetic mean **117 050** is lower than the same for cheaters.\n",
    "\n",
    "Hence, there are presumably two different clusters of users in the 'suspected_cheaters' dataset.  \n",
    "\n",
    "To confirm this, we will visualize the distribution of values on a histogram."
   ]
  },
  {
   "cell_type": "code",
   "execution_count": 15,
   "id": "a3b59196",
   "metadata": {},
   "outputs": [
    {
     "data": {
      "text/plain": [
       "<Axes: xlabel='cash', ylabel='Count'>"
      ]
     },
     "execution_count": 15,
     "metadata": {},
     "output_type": "execute_result"
    },
    {
     "data": {
      "image/png": "[encoded data removed]",
      "text/plain": [
       "<Figure size 1000x800 with 1 Axes>"
      ]
     },
     "metadata": {},
     "output_type": "display_data"
    }
   ],
   "source": [
    "# Using histplot() function from Seaborn library to build a histogram\n",
    "\n",
    "plt.figure(figsize=(10, 8))\n",
    "sns.histplot(data=suspected_cheaters['cash'], x=suspected_cheaters['cash'], \\\n",
    "             bins=80, hue=suspected_cheaters['cash'] > 30000)"
   ]
  },
  {
   "cell_type": "markdown",
   "id": "80cb13a0",
   "metadata": {},
   "source": [
    "As expected, we clearly see two clusters of users on the histogram. \n",
    "\n",
    "The spending of in-game currency of the orange-colored cluster starts after **50 000** up to **240 950**, which is consistent with the pattern of cheaters we have seen before. \n",
    "\n",
    "Let's save two clusters of users to a separate DataFrames for a closer look."
   ]
  },
  {
   "cell_type": "code",
   "execution_count": 16,
   "id": "c3694263",
   "metadata": {},
   "outputs": [
    {
     "data": {
      "text/html": [
       "<div>\n",
       "<style scoped>\n",
       "    .dataframe tbody tr th:only-of-type {\n",
       "        vertical-align: middle;\n",
       "    }\n",
       "\n",
       "    .dataframe tbody tr th {\n",
       "        vertical-align: top;\n",
       "    }\n",
       "\n",
       "    .dataframe thead th {\n",
       "        text-align: right;\n",
       "    }\n",
       "</style>\n",
       "<table border=\"1\" class=\"dataframe\">\n",
       "  <thead>\n",
       "    <tr style=\"text-align: right;\">\n",
       "      <th></th>\n",
       "      <th>cheaters</th>\n",
       "      <th>money</th>\n",
       "      <th>cash</th>\n",
       "    </tr>\n",
       "  </thead>\n",
       "  <tbody>\n",
       "    <tr>\n",
       "      <th>count</th>\n",
       "      <td>343.0</td>\n",
       "      <td>343.0</td>\n",
       "      <td>343.000000</td>\n",
       "    </tr>\n",
       "    <tr>\n",
       "      <th>mean</th>\n",
       "      <td>0.0</td>\n",
       "      <td>0.0</td>\n",
       "      <td>151371.865889</td>\n",
       "    </tr>\n",
       "    <tr>\n",
       "      <th>std</th>\n",
       "      <td>0.0</td>\n",
       "      <td>0.0</td>\n",
       "      <td>33991.397734</td>\n",
       "    </tr>\n",
       "    <tr>\n",
       "      <th>min</th>\n",
       "      <td>0.0</td>\n",
       "      <td>0.0</td>\n",
       "      <td>61950.000000</td>\n",
       "    </tr>\n",
       "    <tr>\n",
       "      <th>25%</th>\n",
       "      <td>0.0</td>\n",
       "      <td>0.0</td>\n",
       "      <td>124850.000000</td>\n",
       "    </tr>\n",
       "    <tr>\n",
       "      <th>50%</th>\n",
       "      <td>0.0</td>\n",
       "      <td>0.0</td>\n",
       "      <td>150150.000000</td>\n",
       "    </tr>\n",
       "    <tr>\n",
       "      <th>75%</th>\n",
       "      <td>0.0</td>\n",
       "      <td>0.0</td>\n",
       "      <td>175875.000000</td>\n",
       "    </tr>\n",
       "    <tr>\n",
       "      <th>max</th>\n",
       "      <td>0.0</td>\n",
       "      <td>0.0</td>\n",
       "      <td>240950.000000</td>\n",
       "    </tr>\n",
       "  </tbody>\n",
       "</table>\n",
       "</div>"
      ],
      "text/plain": [
       "       cheaters  money           cash\n",
       "count     343.0  343.0     343.000000\n",
       "mean        0.0    0.0  151371.865889\n",
       "std         0.0    0.0   33991.397734\n",
       "min         0.0    0.0   61950.000000\n",
       "25%         0.0    0.0  124850.000000\n",
       "50%         0.0    0.0  150150.000000\n",
       "75%         0.0    0.0  175875.000000\n",
       "max         0.0    0.0  240950.000000"
      ]
     },
     "execution_count": 16,
     "metadata": {},
     "output_type": "execute_result"
    }
   ],
   "source": [
    "new_cheaters = suspected_cheaters[suspected_cheaters['cash'] > 50000]\n",
    "new_cheaters.describe()"
   ]
  },
  {
   "cell_type": "code",
   "execution_count": 17,
   "id": "45a1ed3c",
   "metadata": {},
   "outputs": [
    {
     "data": {
      "text/html": [
       "<div>\n",
       "<style scoped>\n",
       "    .dataframe tbody tr th:only-of-type {\n",
       "        vertical-align: middle;\n",
       "    }\n",
       "\n",
       "    .dataframe tbody tr th {\n",
       "        vertical-align: top;\n",
       "    }\n",
       "\n",
       "    .dataframe thead th {\n",
       "        text-align: right;\n",
       "    }\n",
       "</style>\n",
       "<table border=\"1\" class=\"dataframe\">\n",
       "  <thead>\n",
       "    <tr style=\"text-align: right;\">\n",
       "      <th></th>\n",
       "      <th>cheaters</th>\n",
       "      <th>money</th>\n",
       "      <th>cash</th>\n",
       "    </tr>\n",
       "  </thead>\n",
       "  <tbody>\n",
       "    <tr>\n",
       "      <th>count</th>\n",
       "      <td>228.0</td>\n",
       "      <td>228.0</td>\n",
       "      <td>228.000000</td>\n",
       "    </tr>\n",
       "    <tr>\n",
       "      <th>mean</th>\n",
       "      <td>0.0</td>\n",
       "      <td>0.0</td>\n",
       "      <td>3398.903509</td>\n",
       "    </tr>\n",
       "    <tr>\n",
       "      <th>std</th>\n",
       "      <td>0.0</td>\n",
       "      <td>0.0</td>\n",
       "      <td>1500.399691</td>\n",
       "    </tr>\n",
       "    <tr>\n",
       "      <th>min</th>\n",
       "      <td>0.0</td>\n",
       "      <td>0.0</td>\n",
       "      <td>200.000000</td>\n",
       "    </tr>\n",
       "    <tr>\n",
       "      <th>25%</th>\n",
       "      <td>0.0</td>\n",
       "      <td>0.0</td>\n",
       "      <td>2700.000000</td>\n",
       "    </tr>\n",
       "    <tr>\n",
       "      <th>50%</th>\n",
       "      <td>0.0</td>\n",
       "      <td>0.0</td>\n",
       "      <td>3400.000000</td>\n",
       "    </tr>\n",
       "    <tr>\n",
       "      <th>75%</th>\n",
       "      <td>0.0</td>\n",
       "      <td>0.0</td>\n",
       "      <td>4050.000000</td>\n",
       "    </tr>\n",
       "    <tr>\n",
       "      <th>max</th>\n",
       "      <td>0.0</td>\n",
       "      <td>0.0</td>\n",
       "      <td>20700.000000</td>\n",
       "    </tr>\n",
       "  </tbody>\n",
       "</table>\n",
       "</div>"
      ],
      "text/plain": [
       "       cheaters  money          cash\n",
       "count     228.0  228.0    228.000000\n",
       "mean        0.0    0.0   3398.903509\n",
       "std         0.0    0.0   1500.399691\n",
       "min         0.0    0.0    200.000000\n",
       "25%         0.0    0.0   2700.000000\n",
       "50%         0.0    0.0   3400.000000\n",
       "75%         0.0    0.0   4050.000000\n",
       "max         0.0    0.0  20700.000000"
      ]
     },
     "execution_count": 17,
     "metadata": {},
     "output_type": "execute_result"
    }
   ],
   "source": [
    "decent_players = suspected_cheaters[suspected_cheaters['cash'] < 50000]\n",
    "decent_players.describe()"
   ]
  },
  {
   "cell_type": "markdown",
   "id": "dd6a59a9",
   "metadata": {},
   "source": [
    "Please pay attention to one value - a user who has spending of **20 700** (a maximum value in 'decent_players' cluster).\n",
    "\n",
    "Hypothetically, this could be an ultra-active legitimate player or a very modest cheater. In a real-life scenario, it would make sense to investigate this case with the security department.\n",
    "\n",
    "But, to discount this case using only statistical means, we will calculate the deviation of this value from the arithmetic means of both clusters in standard deviation units (std, or σ)."
   ]
  },
  {
   "cell_type": "code",
   "execution_count": 18,
   "id": "693a8bb3",
   "metadata": {},
   "outputs": [
    {
     "data": {
      "text/html": [
       "<div>\n",
       "<style scoped>\n",
       "    .dataframe tbody tr th:only-of-type {\n",
       "        vertical-align: middle;\n",
       "    }\n",
       "\n",
       "    .dataframe tbody tr th {\n",
       "        vertical-align: top;\n",
       "    }\n",
       "\n",
       "    .dataframe thead th {\n",
       "        text-align: right;\n",
       "    }\n",
       "</style>\n",
       "<table border=\"1\" class=\"dataframe\">\n",
       "  <thead>\n",
       "    <tr style=\"text-align: right;\">\n",
       "      <th></th>\n",
       "      <th>user_id</th>\n",
       "      <th>group</th>\n",
       "      <th>cheaters</th>\n",
       "      <th>platform</th>\n",
       "      <th>money</th>\n",
       "      <th>cash</th>\n",
       "    </tr>\n",
       "  </thead>\n",
       "  <tbody>\n",
       "    <tr>\n",
       "      <th>952929</th>\n",
       "      <td>4DBX3L-2LHKON</td>\n",
       "      <td>control</td>\n",
       "      <td>0</td>\n",
       "      <td>PC</td>\n",
       "      <td>0.0</td>\n",
       "      <td>20700</td>\n",
       "    </tr>\n",
       "  </tbody>\n",
       "</table>\n",
       "</div>"
      ],
      "text/plain": [
       "              user_id    group  cheaters platform  money   cash\n",
       "952929  4DBX3L-2LHKON  control         0       PC    0.0  20700"
      ]
     },
     "execution_count": 18,
     "metadata": {},
     "output_type": "execute_result"
    }
   ],
   "source": [
    "# Selecting the user\n",
    "unclasterized_user = suspected_cheaters[(suspected_cheaters['cash'] > 10000) & (suspected_cheaters['cash'] < 30000)]\n",
    "unclasterized_user"
   ]
  },
  {
   "cell_type": "code",
   "execution_count": 19,
   "id": "641a0c3a",
   "metadata": {},
   "outputs": [
    {
     "name": "stdout",
     "output_type": "stream",
     "text": [
      "\n",
      "From legitimate users:  18.01105245675838 σ\n",
      "\n",
      "From cheaters:  3.84426280179481 σ\n"
     ]
    }
   ],
   "source": [
    "# Removing user 4DBX3L-2LHKON from 'decent_players' dataset\n",
    "decent_players = suspected_cheaters[suspected_cheaters['cash'] < 20000]\n",
    "\n",
    "# Saving standard deviations and arithmetic means of the both groups to variables\n",
    "std_cheaters = new_cheaters['cash'].std()\n",
    "mean_cheaters = new_cheaters['cash'].mean()\n",
    "std_decent = decent_players['cash'].std()\n",
    "mean_decent = decent_players['cash'].mean()\n",
    "\n",
    "# Calculating deviation from the means of the both clusters in std of the clusters respectively \n",
    "from_decent = (unclasterized_user['cash'] - mean_decent) / std_decent\n",
    "from_cheaters = (mean_cheaters - unclasterized_user['cash']) / std_cheaters\n",
    "\n",
    "print('\\nFrom legitimate users: ', *from_decent, 'σ')\n",
    "print('\\nFrom cheaters: ', *from_cheaters, 'σ')"
   ]
  },
  {
   "cell_type": "markdown",
   "id": "416c803b",
   "metadata": {},
   "source": [
    "So, the probability of the user **4DBX3L-2LHKON** being a cheater is *higher* than being a legitimate user. \n",
    "Therefore, we include that user in a 'new_cheaters' DataFrame"
   ]
  },
  {
   "cell_type": "code",
   "execution_count": 20,
   "id": "d1ba5c0b",
   "metadata": {},
   "outputs": [],
   "source": [
    "new_cheaters = suspected_cheaters[suspected_cheaters['cash'] >= 20700]"
   ]
  },
  {
   "cell_type": "markdown",
   "id": "d0fcf0eb",
   "metadata": {},
   "source": [
    "If we exclude these cheaters from DataFrame 'others', from where we have already filtered all the known cheaters, we will have a dataset with all the legitimate users."
   ]
  },
  {
   "cell_type": "code",
   "execution_count": 21,
   "id": "5f897c72",
   "metadata": {},
   "outputs": [],
   "source": [
    "# Filtering DataFrame joins. All rows from users_cleaned that do not have a match in 'new_cheaters'\n",
    "users_cleaned = others[~others['user_id'].isin(new_cheaters['user_id'])]"
   ]
  },
  {
   "cell_type": "code",
   "execution_count": 22,
   "id": "4257db96",
   "metadata": {},
   "outputs": [],
   "source": [
    "# Saving cleaned users data\n",
    "users_cleaned.to_csv('data-processed/users_cleaned.csv', index=False)"
   ]
  }
 ],
 "metadata": {
  "kernelspec": {
   "display_name": "Python 3 (ipykernel)",
   "language": "python",
   "name": "python3"
  },
  "language_info": {
   "codemirror_mode": {
    "name": "ipython",
    "version": 3
   },
   "file_extension": ".py",
   "mimetype": "text/x-python",
   "name": "python",
   "nbconvert_exporter": "python",
   "pygments_lexer": "ipython3",
   "version": "3.10.13"
  }
 },
 "nbformat": 4,
 "nbformat_minor": 5
}
